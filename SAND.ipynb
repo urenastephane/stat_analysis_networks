{
 "cells": [
  {
   "cell_type": "code",
   "execution_count": 348,
   "metadata": {},
   "outputs": [],
   "source": [
    "import networkx as nx\n",
    "import pandas as pd\n",
    "import ndlib.models.ModelConfig as mc\n",
    "import ndlib.models.epidemics.IndependentCascadesModel as ids\n",
    "import matplotlib\n",
    "%matplotlib inline\n",
    "import random"
   ]
  },
  {
   "cell_type": "markdown",
   "metadata": {},
   "source": [
    "## Building and vizualising the network"
   ]
  },
  {
   "cell_type": "code",
   "execution_count": 16,
   "metadata": {},
   "outputs": [],
   "source": [
    "# Building a directed graph\n",
    "G = nx.read_weighted_edgelist('higgs-retweet_network.edgelist', create_using=nx.DiGraph (), nodetype=int)"
   ]
  },
  {
   "cell_type": "code",
   "execution_count": 23,
   "metadata": {},
   "outputs": [],
   "source": [
    "# Building an undirected graph\n",
    "G_2 = nx.read_weighted_edgelist('higgs-retweet_network.edgelist', nodetype=int)"
   ]
  },
  {
   "cell_type": "code",
   "execution_count": 9,
   "metadata": {},
   "outputs": [],
   "source": [
    "# Writing a file readeable by GePhi from our network\n",
    "nx.write_gexf(G, '/Users/surena/Desktop/SAND/higgstwittergraph.gexf')"
   ]
  },
  {
   "cell_type": "markdown",
   "metadata": {},
   "source": [
    "## Basic metrics"
   ]
  },
  {
   "cell_type": "code",
   "execution_count": 17,
   "metadata": {},
   "outputs": [
    {
     "data": {
      "text/plain": [
       "256491"
      ]
     },
     "execution_count": 17,
     "metadata": {},
     "output_type": "execute_result"
    }
   ],
   "source": [
    "# Total number of nodes\n",
    "nx.number_of_nodes(G)"
   ]
  },
  {
   "cell_type": "code",
   "execution_count": 18,
   "metadata": {},
   "outputs": [
    {
     "data": {
      "text/plain": [
       "328132"
      ]
     },
     "execution_count": 18,
     "metadata": {},
     "output_type": "execute_result"
    }
   ],
   "source": [
    "# Total number of edges\n",
    "nx.number_of_edges(G)"
   ]
  },
  {
   "cell_type": "code",
   "execution_count": 19,
   "metadata": {},
   "outputs": [
    {
     "data": {
      "text/plain": [
       "4.987765389171601e-06"
      ]
     },
     "execution_count": 19,
     "metadata": {},
     "output_type": "execute_result"
    }
   ],
   "source": [
    "# Graph density\n",
    "nx.density(G)"
   ]
  },
  {
   "cell_type": "code",
   "execution_count": 28,
   "metadata": {},
   "outputs": [
    {
     "data": {
      "text/plain": [
       "255002"
      ]
     },
     "execution_count": 28,
     "metadata": {},
     "output_type": "execute_result"
    }
   ],
   "source": [
    "# Number of strongly connected components\n",
    "nx.number_strongly_connected_components(G)"
   ]
  },
  {
   "cell_type": "code",
   "execution_count": 29,
   "metadata": {},
   "outputs": [
    {
     "data": {
      "text/plain": [
       "13199"
      ]
     },
     "execution_count": 29,
     "metadata": {},
     "output_type": "execute_result"
    }
   ],
   "source": [
    "# Number of weakly connected components\n",
    "nx.number_weakly_connected_components(G)"
   ]
  },
  {
   "cell_type": "code",
   "execution_count": 42,
   "metadata": {
    "scrolled": true
   },
   "outputs": [
    {
     "data": {
      "text/plain": [
       "'Name: \\nType: Graph\\nNumber of nodes: 256491\\nNumber of edges: 327374\\nAverage degree:   2.5527'"
      ]
     },
     "execution_count": 42,
     "metadata": {},
     "output_type": "execute_result"
    }
   ],
   "source": [
    "# Gives the overall-degree\n",
    "nx.info(G_2)"
   ]
  },
  {
   "cell_type": "code",
   "execution_count": 41,
   "metadata": {
    "scrolled": true
   },
   "outputs": [
    {
     "data": {
      "text/plain": [
       "'Name: \\nType: DiGraph\\nNumber of nodes: 256491\\nNumber of edges: 328132\\nAverage in degree:   1.2793\\nAverage out degree:   1.2793'"
      ]
     },
     "execution_count": 41,
     "metadata": {},
     "output_type": "execute_result"
    }
   ],
   "source": [
    "# Gives the in-degree and out-degree\n",
    "nx.info(G)"
   ]
  },
  {
   "cell_type": "code",
   "execution_count": 136,
   "metadata": {
    "scrolled": true
   },
   "outputs": [
    {
     "ename": "KeyboardInterrupt",
     "evalue": "",
     "output_type": "error",
     "traceback": [
      "\u001b[0;31m---------------------------------------------------------------------------\u001b[0m",
      "\u001b[0;31mKeyboardInterrupt\u001b[0m                         Traceback (most recent call last)",
      "\u001b[0;32m<ipython-input-136-537fae7ab34c>\u001b[0m in \u001b[0;36m<module>\u001b[0;34m\u001b[0m\n\u001b[0;32m----> 1\u001b[0;31m \u001b[0mbetw\u001b[0m \u001b[0;34m=\u001b[0m \u001b[0mnx\u001b[0m\u001b[0;34m.\u001b[0m\u001b[0mbetweenness_centrality\u001b[0m\u001b[0;34m(\u001b[0m\u001b[0mG\u001b[0m\u001b[0;34m)\u001b[0m\u001b[0;34m\u001b[0m\u001b[0;34m\u001b[0m\u001b[0m\n\u001b[0m",
      "\u001b[0;32m<decorator-gen-228>\u001b[0m in \u001b[0;36mbetweenness_centrality\u001b[0;34m(G, k, normalized, weight, endpoints, seed)\u001b[0m\n",
      "\u001b[0;32m~/anaconda3/lib/python3.6/site-packages/networkx/utils/decorators.py\u001b[0m in \u001b[0;36m_random_state\u001b[0;34m(func, *args, **kwargs)\u001b[0m\n\u001b[1;32m    462\u001b[0m         \u001b[0mnew_args\u001b[0m \u001b[0;34m=\u001b[0m \u001b[0mlist\u001b[0m\u001b[0;34m(\u001b[0m\u001b[0margs\u001b[0m\u001b[0;34m)\u001b[0m\u001b[0;34m\u001b[0m\u001b[0;34m\u001b[0m\u001b[0m\n\u001b[1;32m    463\u001b[0m         \u001b[0mnew_args\u001b[0m\u001b[0;34m[\u001b[0m\u001b[0mrandom_state_index\u001b[0m\u001b[0;34m]\u001b[0m \u001b[0;34m=\u001b[0m \u001b[0mrandom_state\u001b[0m\u001b[0;34m\u001b[0m\u001b[0;34m\u001b[0m\u001b[0m\n\u001b[0;32m--> 464\u001b[0;31m         \u001b[0;32mreturn\u001b[0m \u001b[0mfunc\u001b[0m\u001b[0;34m(\u001b[0m\u001b[0;34m*\u001b[0m\u001b[0mnew_args\u001b[0m\u001b[0;34m,\u001b[0m \u001b[0;34m**\u001b[0m\u001b[0mkwargs\u001b[0m\u001b[0;34m)\u001b[0m\u001b[0;34m\u001b[0m\u001b[0;34m\u001b[0m\u001b[0m\n\u001b[0m\u001b[1;32m    465\u001b[0m     \u001b[0;32mreturn\u001b[0m \u001b[0m_random_state\u001b[0m\u001b[0;34m\u001b[0m\u001b[0;34m\u001b[0m\u001b[0m\n",
      "\u001b[0;32m~/anaconda3/lib/python3.6/site-packages/networkx/algorithms/centrality/betweenness.py\u001b[0m in \u001b[0;36mbetweenness_centrality\u001b[0;34m(G, k, normalized, weight, endpoints, seed)\u001b[0m\n\u001b[1;32m    117\u001b[0m         \u001b[0;31m# single source shortest paths\u001b[0m\u001b[0;34m\u001b[0m\u001b[0;34m\u001b[0m\u001b[0;34m\u001b[0m\u001b[0m\n\u001b[1;32m    118\u001b[0m         \u001b[0;32mif\u001b[0m \u001b[0mweight\u001b[0m \u001b[0;32mis\u001b[0m \u001b[0;32mNone\u001b[0m\u001b[0;34m:\u001b[0m  \u001b[0;31m# use BFS\u001b[0m\u001b[0;34m\u001b[0m\u001b[0;34m\u001b[0m\u001b[0m\n\u001b[0;32m--> 119\u001b[0;31m             \u001b[0mS\u001b[0m\u001b[0;34m,\u001b[0m \u001b[0mP\u001b[0m\u001b[0;34m,\u001b[0m \u001b[0msigma\u001b[0m \u001b[0;34m=\u001b[0m \u001b[0m_single_source_shortest_path_basic\u001b[0m\u001b[0;34m(\u001b[0m\u001b[0mG\u001b[0m\u001b[0;34m,\u001b[0m \u001b[0ms\u001b[0m\u001b[0;34m)\u001b[0m\u001b[0;34m\u001b[0m\u001b[0;34m\u001b[0m\u001b[0m\n\u001b[0m\u001b[1;32m    120\u001b[0m         \u001b[0;32melse\u001b[0m\u001b[0;34m:\u001b[0m  \u001b[0;31m# use Dijkstra's algorithm\u001b[0m\u001b[0;34m\u001b[0m\u001b[0;34m\u001b[0m\u001b[0m\n\u001b[1;32m    121\u001b[0m             \u001b[0mS\u001b[0m\u001b[0;34m,\u001b[0m \u001b[0mP\u001b[0m\u001b[0;34m,\u001b[0m \u001b[0msigma\u001b[0m \u001b[0;34m=\u001b[0m \u001b[0m_single_source_dijkstra_path_basic\u001b[0m\u001b[0;34m(\u001b[0m\u001b[0mG\u001b[0m\u001b[0;34m,\u001b[0m \u001b[0ms\u001b[0m\u001b[0;34m,\u001b[0m \u001b[0mweight\u001b[0m\u001b[0;34m)\u001b[0m\u001b[0;34m\u001b[0m\u001b[0;34m\u001b[0m\u001b[0m\n",
      "\u001b[0;32m~/anaconda3/lib/python3.6/site-packages/networkx/algorithms/centrality/betweenness.py\u001b[0m in \u001b[0;36m_single_source_shortest_path_basic\u001b[0;34m(G, s)\u001b[0m\n\u001b[1;32m    234\u001b[0m     \u001b[0mP\u001b[0m \u001b[0;34m=\u001b[0m \u001b[0;34m{\u001b[0m\u001b[0;34m}\u001b[0m\u001b[0;34m\u001b[0m\u001b[0;34m\u001b[0m\u001b[0m\n\u001b[1;32m    235\u001b[0m     \u001b[0;32mfor\u001b[0m \u001b[0mv\u001b[0m \u001b[0;32min\u001b[0m \u001b[0mG\u001b[0m\u001b[0;34m:\u001b[0m\u001b[0;34m\u001b[0m\u001b[0;34m\u001b[0m\u001b[0m\n\u001b[0;32m--> 236\u001b[0;31m         \u001b[0mP\u001b[0m\u001b[0;34m[\u001b[0m\u001b[0mv\u001b[0m\u001b[0;34m]\u001b[0m \u001b[0;34m=\u001b[0m \u001b[0;34m[\u001b[0m\u001b[0;34m]\u001b[0m\u001b[0;34m\u001b[0m\u001b[0;34m\u001b[0m\u001b[0m\n\u001b[0m\u001b[1;32m    237\u001b[0m     \u001b[0msigma\u001b[0m \u001b[0;34m=\u001b[0m \u001b[0mdict\u001b[0m\u001b[0;34m.\u001b[0m\u001b[0mfromkeys\u001b[0m\u001b[0;34m(\u001b[0m\u001b[0mG\u001b[0m\u001b[0;34m,\u001b[0m \u001b[0;36m0.0\u001b[0m\u001b[0;34m)\u001b[0m    \u001b[0;31m# sigma[v]=0 for v in G\u001b[0m\u001b[0;34m\u001b[0m\u001b[0;34m\u001b[0m\u001b[0m\n\u001b[1;32m    238\u001b[0m     \u001b[0mD\u001b[0m \u001b[0;34m=\u001b[0m \u001b[0;34m{\u001b[0m\u001b[0;34m}\u001b[0m\u001b[0;34m\u001b[0m\u001b[0;34m\u001b[0m\u001b[0m\n",
      "\u001b[0;31mKeyboardInterrupt\u001b[0m: "
     ]
    }
   ],
   "source": [
    "# Gives the betweenness centrality\n",
    "betw = nx.betweenness_centrality(G)"
   ]
  },
  {
   "cell_type": "markdown",
   "metadata": {},
   "source": [
    "## Top ranking nodes for each metric"
   ]
  },
  {
   "cell_type": "code",
   "execution_count": 48,
   "metadata": {},
   "outputs": [],
   "source": [
    "G_pd = nx.to_pandas_edgelist(G)"
   ]
  },
  {
   "cell_type": "code",
   "execution_count": 67,
   "metadata": {},
   "outputs": [],
   "source": [
    "overall_degree = nx.degree_centrality(G_2)\n",
    "in_degree = nx.in_degree_centrality(G)\n",
    "out_degree = nx.out_degree_centrality(G)\n",
    "pagerank = nx.pagerank(G)"
   ]
  },
  {
   "cell_type": "code",
   "execution_count": 72,
   "metadata": {},
   "outputs": [],
   "source": [
    "G_pd['overalldegree'] = G_pd['source'].map(overall_degree)\n",
    "G_pd['indegree'] = G_pd['source'].map(in_degree)\n",
    "G_pd['outdegree'] = G_pd['source'].map(out_degree)\n",
    "G_pd['pagerank'] = G_pd['source'].map(pagerank)"
   ]
  },
  {
   "cell_type": "markdown",
   "metadata": {},
   "source": [
    "### Overall-degree"
   ]
  },
  {
   "cell_type": "code",
   "execution_count": 250,
   "metadata": {},
   "outputs": [],
   "source": [
    "G_pd_overalldegree = G_pd.sort_values(by=['overalldegree'], ascending = False)"
   ]
  },
  {
   "cell_type": "code",
   "execution_count": 307,
   "metadata": {},
   "outputs": [],
   "source": [
    "#This is the top 100 nodes by overall degree\n",
    "G_pd_overalldegree = G_pd_overalldegree.drop_duplicates('source').head(100)"
   ]
  },
  {
   "cell_type": "markdown",
   "metadata": {},
   "source": [
    "### In-degree"
   ]
  },
  {
   "cell_type": "code",
   "execution_count": 252,
   "metadata": {},
   "outputs": [],
   "source": [
    "G_pd_indegree = G_pd.sort_values(by=['indegree'], ascending = False)"
   ]
  },
  {
   "cell_type": "code",
   "execution_count": 306,
   "metadata": {},
   "outputs": [],
   "source": [
    "#This is the top 100 nodes by indegree\n",
    "G_pd_indegree = G_pd_indegree.drop_duplicates('source').head(100)"
   ]
  },
  {
   "cell_type": "markdown",
   "metadata": {},
   "source": [
    "### Out-degree"
   ]
  },
  {
   "cell_type": "code",
   "execution_count": 254,
   "metadata": {},
   "outputs": [],
   "source": [
    "G_pd_outdegree = G_pd.sort_values(by=['outdegree'], ascending = False)"
   ]
  },
  {
   "cell_type": "code",
   "execution_count": 308,
   "metadata": {},
   "outputs": [],
   "source": [
    "#This is the top 100 nodes by outdegree\n",
    "G_pd_outdegree = G_pd_outdegree.drop_duplicates('source').head(100)"
   ]
  },
  {
   "cell_type": "markdown",
   "metadata": {},
   "source": [
    "### PageRank"
   ]
  },
  {
   "cell_type": "code",
   "execution_count": 256,
   "metadata": {},
   "outputs": [],
   "source": [
    "G_pd_pagerank = G_pd.sort_values(by=['pagerank'], ascending = False)"
   ]
  },
  {
   "cell_type": "code",
   "execution_count": 309,
   "metadata": {},
   "outputs": [],
   "source": [
    "#This is the top 100 nodes by pagerank\n",
    "G_pd_pagerank = G_pd_pagerank.drop_duplicates('source').head(100)"
   ]
  },
  {
   "cell_type": "markdown",
   "metadata": {},
   "source": [
    "## ICM - Diffusion"
   ]
  },
  {
   "cell_type": "code",
   "execution_count": 293,
   "metadata": {},
   "outputs": [],
   "source": [
    "# Number of nodes that we will use for our initial sets\n",
    "samples = [10,20,50,70,100]"
   ]
  },
  {
   "cell_type": "markdown",
   "metadata": {},
   "source": [
    "### Overall-degree"
   ]
  },
  {
   "cell_type": "code",
   "execution_count": 294,
   "metadata": {},
   "outputs": [],
   "source": [
    "res = []\n",
    "for k in range(len(samples)):\n",
    "    # Model selection\n",
    "    model = ids.IndependentCascadesModel(G)\n",
    "    # Model Configuration\n",
    "    config = mc.Configuration()\n",
    "    # Model Configuration\n",
    "    config.add_model_initial_configuration(\"Infected\", list(G_pd_overalldegree['source'])[:samples[k]])\n",
    "    # Setting the edge parameters\n",
    "    threshold = 0.5\n",
    "    for e in G.edges():\n",
    "        config.add_edge_configuration(\"threshold\", e, threshold)\n",
    "    model.set_initial_status(config)\n",
    "    # Simulation execution\n",
    "    iterations = model.iteration_bunch(200)\n",
    "    res.append((samples[k],iterations[199]))"
   ]
  },
  {
   "cell_type": "code",
   "execution_count": 295,
   "metadata": {},
   "outputs": [
    {
     "data": {
      "text/plain": [
       "[(10,\n",
       "  {'iteration': 199,\n",
       "   'status': {},\n",
       "   'node_count': {0: 255760, 1: 0, 2: 731},\n",
       "   'status_delta': {0: 0, 1: 0, 2: 0}}),\n",
       " (20,\n",
       "  {'iteration': 199,\n",
       "   'status': {},\n",
       "   'node_count': {0: 255727, 1: 0, 2: 764},\n",
       "   'status_delta': {0: 0, 1: 0, 2: 0}}),\n",
       " (50,\n",
       "  {'iteration': 199,\n",
       "   'status': {},\n",
       "   'node_count': {0: 255768, 1: 0, 2: 723},\n",
       "   'status_delta': {0: 0, 1: 0, 2: 0}}),\n",
       " (70,\n",
       "  {'iteration': 199,\n",
       "   'status': {},\n",
       "   'node_count': {0: 255685, 1: 0, 2: 806},\n",
       "   'status_delta': {0: 0, 1: 0, 2: 0}}),\n",
       " (100,\n",
       "  {'iteration': 199,\n",
       "   'status': {},\n",
       "   'node_count': {0: 255690, 1: 0, 2: 801},\n",
       "   'status_delta': {0: 0, 1: 0, 2: 0}})]"
      ]
     },
     "execution_count": 295,
     "metadata": {},
     "output_type": "execute_result"
    }
   ],
   "source": [
    "res"
   ]
  },
  {
   "cell_type": "code",
   "execution_count": 296,
   "metadata": {},
   "outputs": [],
   "source": [
    "res_plot_overall = [0,731,764,723,806,801]"
   ]
  },
  {
   "cell_type": "markdown",
   "metadata": {},
   "source": [
    "### In-degree"
   ]
  },
  {
   "cell_type": "code",
   "execution_count": 312,
   "metadata": {},
   "outputs": [],
   "source": [
    "res = []\n",
    "for k in range(len(samples)):\n",
    "    # Model selection\n",
    "    model = ids.IndependentCascadesModel(G)\n",
    "    # Model Configuration\n",
    "    config = mc.Configuration()\n",
    "    # Model Configuration\n",
    "    config.add_model_initial_configuration(\"Infected\", list(G_pd_indegree['source'])[:samples[k]])\n",
    "    # Setting the edge parameters\n",
    "    threshold = 0.5\n",
    "    for e in G.edges():\n",
    "        config.add_edge_configuration(\"threshold\", e, threshold)\n",
    "    model.set_initial_status(config)\n",
    "    # Simulation execution\n",
    "    iterations = model.iteration_bunch(200)\n",
    "    res.append((samples[k],iterations[199]))"
   ]
  },
  {
   "cell_type": "code",
   "execution_count": 313,
   "metadata": {},
   "outputs": [
    {
     "data": {
      "text/plain": [
       "[(10,\n",
       "  {'iteration': 199,\n",
       "   'status': {},\n",
       "   'node_count': {0: 255838, 1: 0, 2: 653},\n",
       "   'status_delta': {0: 0, 1: 0, 2: 0}}),\n",
       " (20,\n",
       "  {'iteration': 199,\n",
       "   'status': {},\n",
       "   'node_count': {0: 255730, 1: 0, 2: 761},\n",
       "   'status_delta': {0: 0, 1: 0, 2: 0}}),\n",
       " (50,\n",
       "  {'iteration': 199,\n",
       "   'status': {},\n",
       "   'node_count': {0: 255726, 1: 0, 2: 765},\n",
       "   'status_delta': {0: 0, 1: 0, 2: 0}}),\n",
       " (70,\n",
       "  {'iteration': 199,\n",
       "   'status': {},\n",
       "   'node_count': {0: 255653, 1: 0, 2: 838},\n",
       "   'status_delta': {0: 0, 1: 0, 2: 0}}),\n",
       " (100,\n",
       "  {'iteration': 199,\n",
       "   'status': {},\n",
       "   'node_count': {0: 255660, 1: 0, 2: 831},\n",
       "   'status_delta': {0: 0, 1: 0, 2: 0}})]"
      ]
     },
     "execution_count": 313,
     "metadata": {},
     "output_type": "execute_result"
    }
   ],
   "source": [
    "res"
   ]
  },
  {
   "cell_type": "code",
   "execution_count": 314,
   "metadata": {},
   "outputs": [],
   "source": [
    "res_plot_indegree = [0,653,761,765,838,831]"
   ]
  },
  {
   "cell_type": "markdown",
   "metadata": {},
   "source": [
    "### Out-degree"
   ]
  },
  {
   "cell_type": "code",
   "execution_count": 315,
   "metadata": {},
   "outputs": [],
   "source": [
    "res = []\n",
    "for k in range(len(samples)):\n",
    "    # Model selection\n",
    "    model = ids.IndependentCascadesModel(G)\n",
    "    # Model Configuration\n",
    "    config = mc.Configuration()\n",
    "    # Model Configuration\n",
    "    config.add_model_initial_configuration(\"Infected\", list(G_pd_outdegree['source'])[:samples[k]])\n",
    "    # Setting the edge parameters\n",
    "    threshold = 0.5\n",
    "    for e in G.edges():\n",
    "        config.add_edge_configuration(\"threshold\", e, threshold)\n",
    "    model.set_initial_status(config)\n",
    "    # Simulation execution\n",
    "    iterations = model.iteration_bunch(200)\n",
    "    res.append((samples[k],iterations[199]))"
   ]
  },
  {
   "cell_type": "code",
   "execution_count": 316,
   "metadata": {},
   "outputs": [
    {
     "data": {
      "text/plain": [
       "[(10,\n",
       "  {'iteration': 199,\n",
       "   'status': {},\n",
       "   'node_count': {0: 255540, 1: 0, 2: 951},\n",
       "   'status_delta': {0: 0, 1: 0, 2: 0}}),\n",
       " (20,\n",
       "  {'iteration': 199,\n",
       "   'status': {},\n",
       "   'node_count': {0: 255412, 1: 0, 2: 1079},\n",
       "   'status_delta': {0: 0, 1: 0, 2: 0}}),\n",
       " (50,\n",
       "  {'iteration': 199,\n",
       "   'status': {},\n",
       "   'node_count': {0: 255211, 1: 0, 2: 1280},\n",
       "   'status_delta': {0: 0, 1: 0, 2: 0}}),\n",
       " (70,\n",
       "  {'iteration': 199,\n",
       "   'status': {},\n",
       "   'node_count': {0: 254980, 1: 0, 2: 1511},\n",
       "   'status_delta': {0: 0, 1: 0, 2: 0}}),\n",
       " (100,\n",
       "  {'iteration': 199,\n",
       "   'status': {},\n",
       "   'node_count': {0: 254790, 1: 0, 2: 1701},\n",
       "   'status_delta': {0: 0, 1: 0, 2: 0}})]"
      ]
     },
     "execution_count": 316,
     "metadata": {},
     "output_type": "execute_result"
    }
   ],
   "source": [
    "res"
   ]
  },
  {
   "cell_type": "code",
   "execution_count": 317,
   "metadata": {},
   "outputs": [],
   "source": [
    "res_plot_outdegree = [0,951,1079,1280,1511,1701]"
   ]
  },
  {
   "cell_type": "markdown",
   "metadata": {},
   "source": [
    "### PageRank"
   ]
  },
  {
   "cell_type": "code",
   "execution_count": 322,
   "metadata": {},
   "outputs": [],
   "source": [
    "res = []\n",
    "for k in range(len(samples)):\n",
    "    # Model selection\n",
    "    model = ids.IndependentCascadesModel(G)\n",
    "    # Model Configuration\n",
    "    config = mc.Configuration()\n",
    "    # Model Configuration\n",
    "    config.add_model_initial_configuration(\"Infected\", list(G_pd_pagerank['source'])[:samples[k]])\n",
    "    # Setting the edge parameters\n",
    "    threshold = 0.5\n",
    "    for e in G.edges():\n",
    "        config.add_edge_configuration(\"threshold\", e, threshold)\n",
    "    model.set_initial_status(config)\n",
    "    # Simulation execution\n",
    "    iterations = model.iteration_bunch(200)\n",
    "    res.append((samples[k],iterations[199]))"
   ]
  },
  {
   "cell_type": "code",
   "execution_count": 323,
   "metadata": {},
   "outputs": [
    {
     "data": {
      "text/plain": [
       "[(10,\n",
       "  {'iteration': 199,\n",
       "   'status': {},\n",
       "   'node_count': {0: 255777, 1: 0, 2: 714},\n",
       "   'status_delta': {0: 0, 1: 0, 2: 0}}),\n",
       " (20,\n",
       "  {'iteration': 199,\n",
       "   'status': {},\n",
       "   'node_count': {0: 255757, 1: 0, 2: 734},\n",
       "   'status_delta': {0: 0, 1: 0, 2: 0}}),\n",
       " (50,\n",
       "  {'iteration': 199,\n",
       "   'status': {},\n",
       "   'node_count': {0: 255802, 1: 0, 2: 689},\n",
       "   'status_delta': {0: 0, 1: 0, 2: 0}}),\n",
       " (70,\n",
       "  {'iteration': 199,\n",
       "   'status': {},\n",
       "   'node_count': {0: 255763, 1: 0, 2: 728},\n",
       "   'status_delta': {0: 0, 1: 0, 2: 0}}),\n",
       " (100,\n",
       "  {'iteration': 199,\n",
       "   'status': {},\n",
       "   'node_count': {0: 255655, 1: 0, 2: 836},\n",
       "   'status_delta': {0: 0, 1: 0, 2: 0}})]"
      ]
     },
     "execution_count": 323,
     "metadata": {},
     "output_type": "execute_result"
    }
   ],
   "source": [
    "res"
   ]
  },
  {
   "cell_type": "code",
   "execution_count": 324,
   "metadata": {},
   "outputs": [],
   "source": [
    "res_plot_pagerank = [0,714,734,689,728,836]"
   ]
  },
  {
   "cell_type": "markdown",
   "metadata": {},
   "source": [
    "### Random"
   ]
  },
  {
   "cell_type": "code",
   "execution_count": 349,
   "metadata": {},
   "outputs": [],
   "source": [
    "list_of_random_items = random.sample(list(G_pd['source']), 100)"
   ]
  },
  {
   "cell_type": "code",
   "execution_count": 368,
   "metadata": {},
   "outputs": [],
   "source": [
    "res = []\n",
    "for k in range(len(samples)):\n",
    "    # Model selection\n",
    "    model = ids.IndependentCascadesModel(G)\n",
    "    # Model Configuration\n",
    "    config = mc.Configuration()\n",
    "    # Model Configuration\n",
    "    config.add_model_initial_configuration(\"Infected\", list_of_random_items[:samples[k]])\n",
    "    # Setting the edge parameters\n",
    "    threshold = 0.5\n",
    "    for e in G.edges():\n",
    "        config.add_edge_configuration(\"threshold\", e, threshold)\n",
    "    model.set_initial_status(config)\n",
    "    # Simulation execution\n",
    "    iterations = model.iteration_bunch(200)\n",
    "    res.append((samples[k],iterations[199]))"
   ]
  },
  {
   "cell_type": "code",
   "execution_count": 369,
   "metadata": {},
   "outputs": [
    {
     "data": {
      "text/plain": [
       "[(10,\n",
       "  {'iteration': 199,\n",
       "   'status': {},\n",
       "   'node_count': {0: 255761, 1: 0, 2: 730},\n",
       "   'status_delta': {0: 0, 1: 0, 2: 0}}),\n",
       " (20,\n",
       "  {'iteration': 199,\n",
       "   'status': {},\n",
       "   'node_count': {0: 255737, 1: 0, 2: 754},\n",
       "   'status_delta': {0: 0, 1: 0, 2: 0}}),\n",
       " (50,\n",
       "  {'iteration': 199,\n",
       "   'status': {},\n",
       "   'node_count': {0: 255586, 1: 0, 2: 905},\n",
       "   'status_delta': {0: 0, 1: 0, 2: 0}}),\n",
       " (70,\n",
       "  {'iteration': 199,\n",
       "   'status': {},\n",
       "   'node_count': {0: 255510, 1: 0, 2: 981},\n",
       "   'status_delta': {0: 0, 1: 0, 2: 0}}),\n",
       " (100,\n",
       "  {'iteration': 199,\n",
       "   'status': {},\n",
       "   'node_count': {0: 255479, 1: 0, 2: 1012},\n",
       "   'status_delta': {0: 0, 1: 0, 2: 0}})]"
      ]
     },
     "execution_count": 369,
     "metadata": {},
     "output_type": "execute_result"
    }
   ],
   "source": [
    "res"
   ]
  },
  {
   "cell_type": "code",
   "execution_count": 354,
   "metadata": {},
   "outputs": [],
   "source": [
    "res_plot_random = [0,761,689,913,983,965]"
   ]
  },
  {
   "cell_type": "markdown",
   "metadata": {},
   "source": [
    "## Results curve"
   ]
  },
  {
   "cell_type": "code",
   "execution_count": 360,
   "metadata": {},
   "outputs": [
    {
     "data": {
      "image/png": "[encoded data removed]",
      "text/plain": [
       "<Figure size 1008x504 with 1 Axes>"
      ]
     },
     "metadata": {
      "needs_background": "light"
     },
     "output_type": "display_data"
    }
   ],
   "source": [
    "plt.figure(figsize=(14,7))\n",
    "plt.plot([0,10,20,50,70,100], res_plot_overall, label='Overall-degree')\n",
    "plt.plot([0,10,20,50,70,100], res_plot_indegree, label='In-degree')\n",
    "plt.plot([0,10,20,50,70,100], res_plot_outdegree, label='Out-degree')\n",
    "plt.plot([0,10,20,50,70,100], res_plot_pagerank, label='PageRank')\n",
    "plt.plot([0,10,20,50,70,100], res_plot_random, label='Random')\n",
    "plt.legend(loc='upper left')\n",
    "plt.xlim(0, 100)\n",
    "plt.ylim(0, 1800)\n",
    "plt.xlabel('Number of nodes in the initial set')\n",
    "plt.ylabel('Number of activated nodes at the end of the process')\n",
    "plt.show()"
   ]
  },
  {
   "cell_type": "markdown",
   "metadata": {},
   "source": [
    "## Additional tests on out-degree"
   ]
  },
  {
   "cell_type": "code",
   "execution_count": 370,
   "metadata": {},
   "outputs": [],
   "source": [
    "G_pd_outdegree_2 = G_pd.sort_values(by=['outdegree'], ascending = False)\n",
    "G_pd_outdegree_2 = G_pd_outdegree_2.drop_duplicates('source').head(20000)"
   ]
  },
  {
   "cell_type": "code",
   "execution_count": 371,
   "metadata": {},
   "outputs": [],
   "source": [
    "samples_2 = [1000,5000,10000,20000]"
   ]
  },
  {
   "cell_type": "code",
   "execution_count": 372,
   "metadata": {},
   "outputs": [],
   "source": [
    "res = []\n",
    "for k in range(len(samples_2)):\n",
    "    # Model selection\n",
    "    model = ids.IndependentCascadesModel(G)\n",
    "    # Model Configuration\n",
    "    config = mc.Configuration()\n",
    "    # Model Configuration\n",
    "    config.add_model_initial_configuration(\"Infected\", list(G_pd_outdegree_2['source'])[:samples_2[k]])\n",
    "    # Setting the edge parameters\n",
    "    threshold = 0.5\n",
    "    for e in G.edges():\n",
    "        config.add_edge_configuration(\"threshold\", e, threshold)\n",
    "    model.set_initial_status(config)\n",
    "    # Simulation execution\n",
    "    iterations = model.iteration_bunch(200)\n",
    "    res.append((samples_2[k],iterations[199]))"
   ]
  },
  {
   "cell_type": "code",
   "execution_count": 373,
   "metadata": {},
   "outputs": [
    {
     "data": {
      "text/plain": [
       "[(1000,\n",
       "  {'iteration': 199,\n",
       "   'status': {},\n",
       "   'node_count': {0: 252000, 1: 0, 2: 4491},\n",
       "   'status_delta': {0: 0, 1: 0, 2: 0}}),\n",
       " (5000,\n",
       "  {'iteration': 199,\n",
       "   'status': {},\n",
       "   'node_count': {0: 245424, 1: 0, 2: 11067},\n",
       "   'status_delta': {0: 0, 1: 0, 2: 0}}),\n",
       " (10000,\n",
       "  {'iteration': 199,\n",
       "   'status': {},\n",
       "   'node_count': {0: 238774, 1: 0, 2: 17717},\n",
       "   'status_delta': {0: 0, 1: 0, 2: 0}}),\n",
       " (20000,\n",
       "  {'iteration': 199,\n",
       "   'status': {},\n",
       "   'node_count': {0: 226967, 1: 0, 2: 29524},\n",
       "   'status_delta': {0: 0, 1: 0, 2: 0}})]"
      ]
     },
     "execution_count": 373,
     "metadata": {},
     "output_type": "execute_result"
    }
   ],
   "source": [
    "res"
   ]
  },
  {
   "cell_type": "code",
   "execution_count": 375,
   "metadata": {},
   "outputs": [],
   "source": [
    "res_outdegree_overall = [0,1701,4491,11067,17717,29524]"
   ]
  },
  {
   "cell_type": "code",
   "execution_count": 376,
   "metadata": {},
   "outputs": [],
   "source": [
    "res_outdegree_net = [0,1601,3491,6067,7717,9524]"
   ]
  },
  {
   "cell_type": "code",
   "execution_count": 378,
   "metadata": {
    "scrolled": false
   },
   "outputs": [
    {
     "data": {
      "image/png": "[encoded data removed]",
      "text/plain": [
       "<Figure size 1008x504 with 1 Axes>"
      ]
     },
     "metadata": {
      "needs_background": "light"
     },
     "output_type": "display_data"
    }
   ],
   "source": [
    "plt.figure(figsize=(14,7))\n",
    "plt.plot([0,100,1000,5000,10000,20000], res_outdegree_overall, label='Total number of active nodes')\n",
    "plt.plot([0,100,1000,5000,10000,20000], res_outdegree_net, label='Activated nodes')\n",
    "plt.legend(loc='upper left')\n",
    "plt.xlim(0, 20000)\n",
    "plt.ylim(0, 30000)\n",
    "plt.xlabel('Number of nodes in the initial set')\n",
    "plt.ylabel('Number of activated nodes')\n",
    "plt.show()"
   ]
  },
  {
   "cell_type": "code",
   "execution_count": null,
   "metadata": {},
   "outputs": [],
   "source": []
  }
 ],
 "metadata": {
  "kernelspec": {
   "display_name": "Python 3",
   "language": "python",
   "name": "python3"
  },
  "language_info": {
   "codemirror_mode": {
    "name": "ipython",
    "version": 3
   },
   "file_extension": ".py",
   "mimetype": "text/x-python",
   "name": "python",
   "nbconvert_exporter": "python",
   "pygments_lexer": "ipython3",
   "version": "3.7.0"
  }
 },
 "nbformat": 4,
 "nbformat_minor": 2
}
